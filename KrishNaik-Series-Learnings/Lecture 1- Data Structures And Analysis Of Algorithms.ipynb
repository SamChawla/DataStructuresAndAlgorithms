{
 "cells": [
  {
   "cell_type": "markdown",
   "metadata": {},
   "source": [
    "Data Structures: Efficient way of storing the data.\n",
    "\n",
    "- There are many ways to solve a particular problem statement, but we have to find out the efficient way to solve that particular problem.\n",
    "\n",
    "- There are mainly two importnat things to consider:\n",
    "  - **Time Constraint**: Time taken to solve that particular problem considering the size of the input and algorithm we use.\n",
    "  - **Space Constraint** : Memory allocation done for that particular problem or the amount of memory used for that problem.\n",
    "  \n",
    "- Asymptotic Notations:\n",
    "  - **Big O Notation**: Defines the worst time constraint for a particular problem.\n",
    "  - **&#937; Notation**: Defines the best case scenerio for that particular problem.\n",
    "  \n",
    " <hr>"
   ]
  },
  {
   "cell_type": "markdown",
   "metadata": {},
   "source": [
    "Problem Statement 1:<br>\n",
    "Input: [1095, 1094, 1095]<br>\n",
    "Output: [1005, 1014, 1015]\n"
   ]
  }
 ],
 "metadata": {
  "kernelspec": {
   "display_name": "Python 3",
   "language": "python",
   "name": "python3"
  },
  "language_info": {
   "codemirror_mode": {
    "name": "ipython",
    "version": 3
   },
   "file_extension": ".py",
   "mimetype": "text/x-python",
   "name": "python",
   "nbconvert_exporter": "python",
   "pygments_lexer": "ipython3",
   "version": "3.7.3"
  }
 },
 "nbformat": 4,
 "nbformat_minor": 2
}
