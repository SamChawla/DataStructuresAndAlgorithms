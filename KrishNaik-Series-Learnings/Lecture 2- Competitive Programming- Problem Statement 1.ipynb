{
 "cells": [
  {
   "cell_type": "markdown",
   "metadata": {},
   "source": [
    "N: [1000, 9999]<br>\n",
    "IN: [1095, 1084, 1095]<br>\n",
    "OUT: [1005, 1014, 1015]<br>\n",
    "\n",
    "Change one bit from each number to convert it in ascending order.\n",
    "Logic:<br>\n",
    "1095 -> Change 9 to 0 -> 1005<br>\n",
    "1094 -> Change 9 to 1 -> 1014<br>\n",
    "1095 -> Change 9 to 1 -> 1015<br>"
   ]
  },
  {
   "cell_type": "code",
   "execution_count": null,
   "metadata": {},
   "outputs": [],
   "source": [
    "Problem Statement 2:<br>\n",
    "Input: [5555, 4444, 3333, 2222, 1111]<br>\n",
    "Chnage one bit to convert it in ascending order."
   ]
  }
 ],
 "metadata": {
  "kernelspec": {
   "display_name": "Python 3",
   "language": "python",
   "name": "python3"
  },
  "language_info": {
   "codemirror_mode": {
    "name": "ipython",
    "version": 3
   },
   "file_extension": ".py",
   "mimetype": "text/x-python",
   "name": "python",
   "nbconvert_exporter": "python",
   "pygments_lexer": "ipython3",
   "version": "3.7.3"
  }
 },
 "nbformat": 4,
 "nbformat_minor": 2
}
