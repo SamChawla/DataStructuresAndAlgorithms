{
 "cells": [
  {
   "cell_type": "markdown",
   "metadata": {},
   "source": [
    "<p style=\"text-align: center;\"> Python Data Structures: Linked Lists By <strong>Erin Allard</strong> </p> \n",
    "\n",
    "***"
   ]
  },
  {
   "cell_type": "markdown",
   "metadata": {},
   "source": [
    "What You Should Be Familiar With: <br>\n",
    "• Python <br>\n",
    "• List data type <br>\n",
    "• Flow to create a class, attribute, and method <br>\n",
    "• Use of the keyword 'self' <br>\n",
    "• How to call methods. <br>\n",
    "• Time Complexity basics. <br>\n",
    "• How to determine time complexity. <br>"
   ]
  },
  {
   "cell_type": "markdown",
   "metadata": {},
   "source": [
    "**Abstract Data Types (ADTs)**: A theoretical concept to specify what kind of data a data structure can hold and what operations are allowed on that data. The implementation of an abstract data type is called Data Structure.\n",
    "\n",
    "**One ADT operation = One function in DS.**\n",
    "\n",
    "\n",
    "ADTs have:\n",
    "\n",
    "- No code <br> \n",
    "- Interaction, not implementation <br>\n",
    "- ADTs are Language agnostic <br>\n",
    "***\n",
    "Advantages of abstract data types:\n",
    "\n",
    "- **Abstraction** \n",
    "  - All a user needs to know are the allowable data types and allowable operations \n",
    "  - No understanding of the implementation is required \n",
    "\n",
    "\n",
    "- **Consistency**\n",
    "  - The implementation can change as long as the interface to the data structure stays the same.\n",
    "  - The user don't have to change the code.\n",
    "\n",
    "***"
   ]
  },
  {
   "cell_type": "markdown",
   "metadata": {},
   "source": [
    "**Python List**: A mutable, ordered collection of items not necessarily of the same type.<br>\n",
    "\n",
    "**Python List Syntax**:\n",
    "\n",
    "- The syntax for the built-in list data type consists of paired square brackets with comma separated values in between them.\n",
    "- The items inside a Python fist can be of different data types.\n",
    "- e.g [ 'a', 2, True, 3.0 ]\n",
    "\n",
    "***\n",
    "\n",
    "**Python Linked List**: A mutable, ordered collection of items that do not have to be of the same type, but they are very different than build in lists.\n"
   ]
  },
  {
   "cell_type": "markdown",
   "metadata": {},
   "source": [
    "- linked lists are linear data structures and are recursive.\n",
    "- Linked lists don't store their data in a continuous chunk of memory, like Python's built-in lists do. Instead, linked lists store their data in a series of nodes. \n",
    "- Each node contains the data being stored, as well as what's called a pointer. \n",
    "- The pointer indicates the location and memory that holds the next location.\n",
    "- pointers actually points to the slot in memory and not the actual data thats stored in that slot."
   ]
  },
  {
   "cell_type": "markdown",
   "metadata": {},
   "source": [
    "There are two types of pointes:\n",
    "- Previous\n",
    "- Next"
   ]
  },
  {
   "cell_type": "markdown",
   "metadata": {},
   "source": [
    "**Singly linked list and Doubly linked list**\n",
    "\n",
    "If we only need to be able to move forward through the linked list and not backward, we can create what's called a **singly linked list**. Singly linked lists make use of the next pointer only. Thus, singly linked, because the nodes only have a single pointer connecting them.\n",
    "\n",
    "If we want to be able to move in either direction, forward and backward, we can create a **doubly linked list**. Double linked lists make use of both the next and the previous pointer for each node. As you can imagine, we call them doubly linked because the nodes have two pointers connecting them instead of one.\n",
    "\n"
   ]
  },
  {
   "cell_type": "markdown",
   "metadata": {},
   "source": [
    "- The entry point to a linked list is called the head.It is not a separate node, jsut the reference of the first node of the linked list.\n",
    "\n",
    "- The end of the linked list is indicated by a node whose pointer points to none instead of to another node's location and memory. If the head reference points to none, then we assume the linked list is empty, because there's nothing there."
   ]
  },
  {
   "cell_type": "markdown",
   "metadata": {},
   "source": [
    "When is a linked list suitable:\n",
    "\n",
    "- Insert items \"in between\" other items <br>\n",
    "- Collection size is unknown <br>\n",
    "- You don't need random access <br>\n",
    "- Not concemed about memory usage<br> \n"
   ]
  },
  {
   "cell_type": "code",
   "execution_count": null,
   "metadata": {},
   "outputs": [],
   "source": []
  }
 ],
 "metadata": {
  "kernelspec": {
   "display_name": "Python 3",
   "language": "python",
   "name": "python3"
  },
  "language_info": {
   "codemirror_mode": {
    "name": "ipython",
    "version": 3
   },
   "file_extension": ".py",
   "mimetype": "text/x-python",
   "name": "python",
   "nbconvert_exporter": "python",
   "pygments_lexer": "ipython3",
   "version": "3.7.4"
  }
 },
 "nbformat": 4,
 "nbformat_minor": 2
}
